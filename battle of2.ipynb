{
 "cells": [
  {
   "cell_type": "markdown",
   "metadata": {
    "collapsed": true
   },
   "source": [
    "Introduction:\n",
    "\n",
    "New York is one of the major multi-ethnic centers.\n",
    "The great Italian emigration began in the mid-nineteenth century, in correspondence with the constant development of industry and the consequent increase in the size of the cities, the numerical leap in Italian immigration was also a reason for the imbalances created after the unification of Italy . In this last quarter of a century (1876 - 1900) the United States welcomed about 800,000 Italians. Our emigration mainly affected the northern regions, and in the following two decades (1910/1920) it was composed largely of southerners, almost all agricultural workers in the countries of origin.\n",
    "the culmination of the Italian \"great emigration\" to the USA was reached in the first quarter of the 1900s with 3 and a half million landings mostly through the symbolic port of Ellis Island, an islet at the mouth of the Hudson River in New York Bay. With the creation of new jobs, the arrival of immigrant labor was once again favored, destined for the consolidation of the urban and industrial sector of cities such as New York, which in a few decades went from a situation of demographic stalemate to the rank of a large metropolis. As early as the first half of the 19th century, New York was the only city in the United States of truly remarkable importance. The development of the other industrial centers occurred later (Brenna, 1918).\n",
    "For this project , I will list and visualize all neightborhoods of New York City that have italian restaurants.\n",
    "\n",
    "Data:\n",
    "\n",
    "New York City data that contains list Boroughs, Neighborhoods along with their latitude and longitude (link at https://cocl.us/new_york_dataset)\n",
    "\n",
    "\n",
    "Data source : Fousquare API\n",
    "Description : for the venues in each neighborhood.\n",
    "\n",
    "GeoSpace data :\n",
    "\n",
    "Data source : https://data.cityofnewyork.us/City-Government/Borough-Boundaries/tqmj-j8zm\n",
    "Description : By using this geo space data I'll get the New york Borough boundaries.\n",
    "\n",
    "Approach:\n",
    "\n",
    "Collect the new york city data from https://cocl.us/new_york_dataset\n",
    "Using FourSquare API I'll find all venues for each neighborhood.\n",
    "The goal is to find concentration in the borough and related neighborhoods of Italian restaurants.\n",
    "\n",
    "Target and audience:\n",
    "\n",
    "it can be interesting for those who want to open an Italian restaurant and want to avoid areas with high numbers of Italian restaurants.\n",
    "Furthermore, the analysis is useful for comparing the rating level of the various restaurants and selecting the areas that have the least number of Italian restaurants and low scores; these could be attractive places to open a new Italian restaurant.\n",
    "It could also be useful to determine places with a high number of Italian restaurants but with a low score, if you are interested in opening a high-level restaurant\n"
   ]
  },
  {
   "cell_type": "code",
   "execution_count": null,
   "metadata": {},
   "outputs": [],
   "source": []
  }
 ],
 "metadata": {
  "kernelspec": {
   "display_name": "Python 3.6",
   "language": "python",
   "name": "python3"
  },
  "language_info": {
   "codemirror_mode": {
    "name": "ipython",
    "version": 3
   },
   "file_extension": ".py",
   "mimetype": "text/x-python",
   "name": "python",
   "nbconvert_exporter": "python",
   "pygments_lexer": "ipython3",
   "version": "3.6.9"
  }
 },
 "nbformat": 4,
 "nbformat_minor": 1
}
